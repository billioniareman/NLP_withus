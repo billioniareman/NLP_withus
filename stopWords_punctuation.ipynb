{
 "cells": [
  {
   "cell_type": "code",
   "execution_count": 1,
   "id": "e397de36",
   "metadata": {},
   "outputs": [
    {
     "name": "stderr",
     "output_type": "stream",
     "text": [
      "[nltk_data] Downloading package stopwords to\n",
      "[nltk_data]     C:\\Users\\rishab\\AppData\\Roaming\\nltk_data...\n",
      "[nltk_data]   Package stopwords is already up-to-date!\n"
     ]
    }
   ],
   "source": [
    "import nltk\n",
    "from nltk.corpus import stopwords # corpus module h\n",
    "nltk.download('stopwords')\n",
    "\n",
    "import string"
   ]
  },
  {
   "cell_type": "code",
   "execution_count": 2,
   "id": "ff412593",
   "metadata": {},
   "outputs": [],
   "source": [
    "class StopWordsRemover:\n",
    "    def __init__(self, language='english'):\n",
    "        self.stop_words = set(stopwords.words(language))\n",
    "\n",
    "    def remove_stopwords(self, text):\n",
    "        words = nltk.word_tokenize(text)\n",
    "        filtered_words = []\n",
    "        \n",
    "        for word in words:\n",
    "            if word.lower() not in self.stop_words:\n",
    "                filtered_words.append(word)\n",
    "        \n",
    "        return ' '.join(filtered_words)"
   ]
  },
  {
   "cell_type": "code",
   "execution_count": 3,
   "id": "58ebb557",
   "metadata": {},
   "outputs": [],
   "source": [
    "class PunctuationRemover:\n",
    "    \n",
    "    def remove_punctuation(self, text):\n",
    "        translator = str.maketrans('', '', string.punctuation)\n",
    "        text_without_punctuation = text.translate(translator)\n",
    "        \n",
    "        return text_without_punctuation"
   ]
  },
  {
   "cell_type": "code",
   "execution_count": 4,
   "id": "694a5f16",
   "metadata": {},
   "outputs": [],
   "source": [
    "stopwords_remover = StopWordsRemover()\n",
    "punctuation_remover = PunctuationRemover()\n",
    "text = \"Once, there was a dog who wandered the streets night and day in search of food. One day, he found a big juicy bone, and he immediately grabbed it in his mouth and took it home. On his way home, he crossed a river and saw another dog with a bone in its mouth. He wanted that bone for himself, too. But as he opened his mouth, the bone he was biting fell into the river and sank. That night, he went home hungry.\""
   ]
  },
  {
   "cell_type": "code",
   "execution_count": 5,
   "id": "91ef18e0",
   "metadata": {},
   "outputs": [],
   "source": [
    "filtered_text = stopwords_remover.remove_stopwords(text)\n",
    "text_without_punctuation_and_stopwords = punctuation_remover.remove_punctuation(filtered_text)"
   ]
  },
  {
   "cell_type": "code",
   "execution_count": 6,
   "id": "7ab3aa76",
   "metadata": {},
   "outputs": [
    {
     "name": "stdout",
     "output_type": "stream",
     "text": [
      " dog wandered streets night day search food  One day  found big juicy bone  immediately grabbed mouth took home  way home  crossed river saw another dog bone mouth  wanted bone   opened mouth  bone biting fell river sank  night  went home hungry \n"
     ]
    }
   ],
   "source": [
    "print(text_without_punctuation_and_stopwords)"
   ]
  },
  {
   "cell_type": "code",
   "execution_count": null,
   "id": "36d99cf9",
   "metadata": {},
   "outputs": [],
   "source": []
  }
 ],
 "metadata": {
  "kernelspec": {
   "display_name": "Python 3 (ipykernel)",
   "language": "python",
   "name": "python3"
  },
  "language_info": {
   "codemirror_mode": {
    "name": "ipython",
    "version": 3
   },
   "file_extension": ".py",
   "mimetype": "text/x-python",
   "name": "python",
   "nbconvert_exporter": "python",
   "pygments_lexer": "ipython3",
   "version": "3.9.13"
  }
 },
 "nbformat": 4,
 "nbformat_minor": 5
}
