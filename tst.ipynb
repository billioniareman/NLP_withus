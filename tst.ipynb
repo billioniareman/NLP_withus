{
 "cells": [
  {
   "cell_type": "code",
   "execution_count": 1,
   "id": "b653e115",
   "metadata": {},
   "outputs": [],
   "source": [
    "import spacy\n",
    "text=\"I am a random TEXT generated for TEXT summerization consider me a medical demo TEXT\"\n",
    "nlp=spacy.load(\"en_core_web_sm\")\n",
    "words=nlp(text)\n",
    "output=[]\n",
    "class LowerCase:\n",
    "    def process_text(text):\n",
    "        for word in words:\n",
    "            if word.text.isupper():\n",
    "                output.append(word.text.lower())\n",
    "            else: \n",
    "                output.append(word.text)\n",
    "        return \" \".join(output)"
   ]
  },
  {
   "cell_type": "code",
   "execution_count": 2,
   "id": "3262adff",
   "metadata": {},
   "outputs": [
    {
     "name": "stdout",
     "output_type": "stream",
     "text": [
      "i am a random text generated for text summerization consider me a medical demo text\n"
     ]
    }
   ],
   "source": [
    "result=LowerCase.process_text(text)\n",
    "print(result)"
   ]
  },
  {
   "cell_type": "code",
   "execution_count": 3,
   "id": "bbd7193a",
   "metadata": {},
   "outputs": [],
   "source": [
    "text=\"I am a random TEXT generated for TEXT summerization. Consider me a medical demo TEXT. let abbriviation be NLP at first\"\n",
    "abb=[\"NLP\"]\n",
    "output=[]\n",
    "tokens=text.split(\" \")\n",
    "class LowerCase:\n",
    "    def lower_case(text):\n",
    "        for token in tokens:\n",
    "            if token in abb:\n",
    "                output.append(token)\n",
    "            else:\n",
    "                output.append(token.lower())\n",
    "        return \" \".join(output)\n",
    "                "
   ]
  },
  {
   "cell_type": "code",
   "execution_count": 4,
   "id": "60c03dec",
   "metadata": {},
   "outputs": [
    {
     "name": "stdout",
     "output_type": "stream",
     "text": [
      "i am a random text generated for text summerization. consider me a medical demo text. let abbriviation be NLP at first\n"
     ]
    }
   ],
   "source": [
    "result=LowerCase.lower_case(text)\n",
    "print(result)"
   ]
  },
  {
   "cell_type": "code",
   "execution_count": 5,
   "id": "a5d6f788",
   "metadata": {},
   "outputs": [],
   "source": [
    "from nltk.tokenize import sent_tokenize, word_tokenize\n",
    "class tokenization:\n",
    "    def tokenizer(text):\n",
    "        sentences=sent_tokenize(text)\n",
    "        print(sentences)\n",
    "        for sentence in sentences:\n",
    "            words=word_tokenize(sentence)\n",
    "            print(words)\n",
    "        return sentences,words"
   ]
  },
  {
   "cell_type": "code",
   "execution_count": 6,
   "id": "86188f3e",
   "metadata": {},
   "outputs": [
    {
     "name": "stdout",
     "output_type": "stream",
     "text": [
      "['I am a random TEXT generated for TEXT summerization.', 'Consider me a medical demo TEXT.', 'let abbriviation be NLP at first']\n",
      "['I', 'am', 'a', 'random', 'TEXT', 'generated', 'for', 'TEXT', 'summerization', '.']\n",
      "['Consider', 'me', 'a', 'medical', 'demo', 'TEXT', '.']\n",
      "['let', 'abbriviation', 'be', 'NLP', 'at', 'first']\n"
     ]
    },
    {
     "data": {
      "text/plain": [
       "(['I am a random TEXT generated for TEXT summerization.',\n",
       "  'Consider me a medical demo TEXT.',\n",
       "  'let abbriviation be NLP at first'],\n",
       " ['let', 'abbriviation', 'be', 'NLP', 'at', 'first'])"
      ]
     },
     "execution_count": 6,
     "metadata": {},
     "output_type": "execute_result"
    }
   ],
   "source": [
    "tokenization.tokenizer(text)"
   ]
  },
  {
   "cell_type": "code",
   "execution_count": null,
   "id": "3487a566",
   "metadata": {},
   "outputs": [],
   "source": []
  }
 ],
 "metadata": {
  "kernelspec": {
   "display_name": "Python 3 (ipykernel)",
   "language": "python",
   "name": "python3"
  },
  "language_info": {
   "codemirror_mode": {
    "name": "ipython",
    "version": 3
   },
   "file_extension": ".py",
   "mimetype": "text/x-python",
   "name": "python",
   "nbconvert_exporter": "python",
   "pygments_lexer": "ipython3",
   "version": "3.9.13"
  }
 },
 "nbformat": 4,
 "nbformat_minor": 5
}
