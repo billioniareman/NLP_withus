{
 "cells": [
  {
   "cell_type": "code",
   "execution_count": null,
   "id": "32a8ae8e",
   "metadata": {},
   "outputs": [],
   "source": [
    "text=\"I am a random text generated for text summerization consider me a medical demo text,lets try NLP for first go\"\n",
    "abb=['NLP']\n",
    "output=[]\n",
    "class lowercase:\n",
    "    def process_text(text,abb):\n",
    "        words=text.split(\" \")\n",
    "        for word in words:\n",
    "            if word.upper() in abb:\n",
    "                output.append(text)\n",
    "            else: \n",
    "                output.append(word.lower())\n",
    "            \n",
    "        return \" \".join(output)"
   ]
  },
  {
   "cell_type": "code",
   "execution_count": null,
   "id": "c02175f9",
   "metadata": {},
   "outputs": [],
   "source": []
  },
  {
   "cell_type": "raw",
   "id": "9471eb18",
   "metadata": {},
   "source": []
  }
 ],
 "metadata": {
  "kernelspec": {
   "display_name": "Python 3 (ipykernel)",
   "language": "python",
   "name": "python3"
  },
  "language_info": {
   "codemirror_mode": {
    "name": "ipython",
    "version": 3
   },
   "file_extension": ".py",
   "mimetype": "text/x-python",
   "name": "python",
   "nbconvert_exporter": "python",
   "pygments_lexer": "ipython3",
   "version": "3.9.13"
  }
 },
 "nbformat": 4,
 "nbformat_minor": 5
}
